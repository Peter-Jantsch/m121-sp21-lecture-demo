{
 "cells": [
  {
   "cell_type": "code",
   "execution_count": null,
   "metadata": {},
   "outputs": [],
   "source": [
    "from datascience import *\n",
    "%matplotlib inline\n",
    "import matplotlib.pyplot as plots\n",
    "plots.style.use('fivethirtyeight')\n",
    "import numpy as np"
   ]
  },
  {
   "cell_type": "markdown",
   "metadata": {},
   "source": [
    "## Lecture 18 ##"
   ]
  },
  {
   "cell_type": "markdown",
   "metadata": {},
   "source": [
    "# Randomized Control Experiment"
   ]
  },
  {
   "cell_type": "code",
   "execution_count": null,
   "metadata": {},
   "outputs": [],
   "source": [
    "botox = Table.read_table('bta.csv')\n",
    "botox.show()"
   ]
  },
  {
   "cell_type": "code",
   "execution_count": null,
   "metadata": {},
   "outputs": [],
   "source": [
    "botox.pivot('Result', 'Group')"
   ]
  },
  {
   "cell_type": "code",
   "execution_count": null,
   "metadata": {},
   "outputs": [],
   "source": [
    "botox.group('Group', np.average)"
   ]
  },
  {
   "cell_type": "markdown",
   "metadata": {},
   "source": [
    "# Testing the Hypothesis"
   ]
  },
  {
   "cell_type": "code",
   "execution_count": null,
   "metadata": {},
   "outputs": [],
   "source": [
    "average_array = botox.group('Group', np.average).column(\"Result average\")\n",
    "observed_diff = abs(average_array.item(0) - average_array.item(1))\n",
    "observed_diff"
   ]
  },
  {
   "cell_type": "code",
   "execution_count": null,
   "metadata": {},
   "outputs": [],
   "source": [
    "def compute_statistic(tbl, group_label, number_label):\n",
    "    average_array = tbl.group(group_label, np.average).column(number_label + \" average\")\n",
    "    return abs(average_array.item(0) - average_array.item(1))"
   ]
  },
  {
   "cell_type": "code",
   "execution_count": null,
   "metadata": {},
   "outputs": [],
   "source": [
    "compute_statistic(botox, \"Group\", \"Result\")"
   ]
  },
  {
   "cell_type": "code",
   "execution_count": null,
   "metadata": {},
   "outputs": [],
   "source": [
    "shuffled_labels = botox.sample(with_replacement = False).column(\"Group\")\n",
    "botox_shuffled = botox.with_column(\"Group\", shuffled_labels)\n",
    "botox_shuffled"
   ]
  },
  {
   "cell_type": "code",
   "execution_count": null,
   "metadata": {},
   "outputs": [],
   "source": [
    "def one_simulated_difference(tbl, group_label, number_label):\n",
    "    shuffled_labels = tbl.sample(with_replacement = False).column(group_label)\n",
    "    botox_shuffled = botox.with_column(group_label, shuffled_labels)\n",
    "    return compute_statistic(botox_shuffled, group_label, number_label)"
   ]
  },
  {
   "cell_type": "code",
   "execution_count": null,
   "metadata": {},
   "outputs": [],
   "source": [
    "simulated_diffs = make_array()\n",
    "\n",
    "for i in np.arange(10000):\n",
    "    sim_diff = one_simulated_difference(botox, 'Group', 'Result')\n",
    "    simulated_diffs = np.append(simulated_diffs, sim_diff)"
   ]
  },
  {
   "cell_type": "code",
   "execution_count": null,
   "metadata": {},
   "outputs": [],
   "source": [
    "col_name = 'Distances between groups'\n",
    "Table().with_column(col_name, simulated_diffs).hist(col_name)"
   ]
  },
  {
   "cell_type": "code",
   "execution_count": null,
   "metadata": {
    "scrolled": true
   },
   "outputs": [],
   "source": [
    "# p-value\n",
    "sum(simulated_diffs >= observed_diff)/len(simulated_diffs)"
   ]
  },
  {
   "cell_type": "markdown",
   "metadata": {},
   "source": [
    "## Example: Benford's Law"
   ]
  },
  {
   "cell_type": "code",
   "execution_count": null,
   "metadata": {},
   "outputs": [],
   "source": [
    "digits = np.arange(1, 10)\n",
    "benford_model = np.log10(1 + 1/digits)"
   ]
  },
  {
   "cell_type": "code",
   "execution_count": null,
   "metadata": {},
   "outputs": [],
   "source": [
    "benford = Table().with_columns(\n",
    "    'First digit', digits,\n",
    "    'Benford model prob', benford_model)\n",
    "benford.barh('First digit')"
   ]
  },
  {
   "cell_type": "code",
   "execution_count": null,
   "metadata": {},
   "outputs": [],
   "source": [
    "# You don't have to understand how this function works, since it uses Python features from beyond Math 121.\n",
    "def first_digit(num):\n",
    "    return int(str(num)[0])"
   ]
  },
  {
   "cell_type": "code",
   "execution_count": null,
   "metadata": {},
   "outputs": [],
   "source": [
    "first_digit(32)"
   ]
  },
  {
   "cell_type": "code",
   "execution_count": null,
   "metadata": {
    "scrolled": true
   },
   "outputs": [],
   "source": [
    "first_digit(17719087)"
   ]
  },
  {
   "cell_type": "code",
   "execution_count": null,
   "metadata": {},
   "outputs": [],
   "source": [
    "# County populations from the census data\n",
    "counties = Table.read_table('counties.csv')\n",
    "counties = counties.where('SUMLEV', 50).select(5,6,9).relabeled(0,'State').relabeled(1,'County').relabeled(2,'Population')\n",
    "counties.show(3)"
   ]
  },
  {
   "cell_type": "code",
   "execution_count": null,
   "metadata": {},
   "outputs": [],
   "source": [
    "first_digits = counties.apply(first_digit, 'Population')\n",
    "counties = counties.with_column('First digit', first_digits)\n",
    "counties.show(3)"
   ]
  },
  {
   "cell_type": "code",
   "execution_count": null,
   "metadata": {},
   "outputs": [],
   "source": [
    "num_counties = counties.num_rows"
   ]
  },
  {
   "cell_type": "code",
   "execution_count": null,
   "metadata": {},
   "outputs": [],
   "source": [
    "by_digit = counties.group('First digit')\n",
    "proportions = by_digit.column('count')/num_counties\n",
    "by_digit = by_digit.with_columns(\n",
    "    'Observed proportion', proportions,\n",
    "    'Benford predicted proportion', benford_model\n",
    ")\n",
    "by_digit.drop('count').barh('First digit')"
   ]
  },
  {
   "cell_type": "markdown",
   "metadata": {},
   "source": [
    "Null hypothesis: ____"
   ]
  },
  {
   "cell_type": "markdown",
   "metadata": {},
   "source": [
    "Alternative hypothesis: ____"
   ]
  },
  {
   "cell_type": "markdown",
   "metadata": {},
   "source": [
    "Test statistic: ___\n",
    "\n",
    "Fill in the blank with \"Bigger\" or \"Smaller\":\n",
    "\n",
    "___ values of the test statistic favor the alternative"
   ]
  },
  {
   "cell_type": "code",
   "execution_count": null,
   "metadata": {},
   "outputs": [],
   "source": [
    "observed_tvd = sum(abs(proportions - benford_model))/2\n",
    "observed_tvd"
   ]
  },
  {
   "cell_type": "code",
   "execution_count": null,
   "metadata": {},
   "outputs": [],
   "source": [
    "sample_proportions(num_counties, benford_model)"
   ]
  },
  {
   "cell_type": "code",
   "execution_count": null,
   "metadata": {},
   "outputs": [],
   "source": [
    "simulated_frequencies = sample_proportions(num_counties, benford_model)\n",
    "tvd_from_sim = sum(abs(simulated_frequencies - benford_model))/2\n",
    "tvd_from_sim"
   ]
  },
  {
   "cell_type": "code",
   "execution_count": null,
   "metadata": {},
   "outputs": [],
   "source": [
    "def simulate_county_first_digits():\n",
    "    simulated_frequencies = sample_proportions(num_counties, benford_model)\n",
    "    tvd_from_sim = sum(abs(simulated_frequencies - benford_model))/2\n",
    "    return tvd_from_sim"
   ]
  },
  {
   "cell_type": "code",
   "execution_count": null,
   "metadata": {},
   "outputs": [],
   "source": [
    "simulated_tvds = make_array()\n",
    "\n",
    "for i in np.arange(10000):\n",
    "    simulated_tvds = np.append(simulated_tvds, simulate_county_first_digits())"
   ]
  },
  {
   "cell_type": "code",
   "execution_count": null,
   "metadata": {},
   "outputs": [],
   "source": [
    "Table().with_column(\"TVD Predicted by Benford's Law\", simulated_tvds).hist(0)"
   ]
  },
  {
   "cell_type": "code",
   "execution_count": null,
   "metadata": {},
   "outputs": [],
   "source": [
    "np.count_nonzero(simulated_tvds >= observed_tvd) / 10000"
   ]
  },
  {
   "cell_type": "markdown",
   "metadata": {},
   "source": [
    "Are the data consistent with the null hypothesis?"
   ]
  },
  {
   "cell_type": "markdown",
   "metadata": {},
   "source": [
    "### Percentiles"
   ]
  },
  {
   "cell_type": "code",
   "execution_count": null,
   "metadata": {},
   "outputs": [],
   "source": [
    "# Manually compute the 55th percentile.\n",
    "x = make_array(43, 20, 51, 7, 28, 34)"
   ]
  },
  {
   "cell_type": "code",
   "execution_count": null,
   "metadata": {},
   "outputs": [],
   "source": [
    "# Step 1. Sort the data\n",
    "np.sort(x)"
   ]
  },
  {
   "cell_type": "code",
   "execution_count": null,
   "metadata": {},
   "outputs": [],
   "source": [
    "# Step 2. Figure out where 55th percentile would be."
   ]
  },
  {
   "cell_type": "code",
   "execution_count": null,
   "metadata": {},
   "outputs": [],
   "source": [
    "# OR: 1 Line of Code\n",
    "percentile(55, x)"
   ]
  },
  {
   "cell_type": "code",
   "execution_count": null,
   "metadata": {},
   "outputs": [],
   "source": [
    "# If we tried to compute which element to take...\n",
    "55 / 100 * 6"
   ]
  },
  {
   "cell_type": "code",
   "execution_count": null,
   "metadata": {},
   "outputs": [],
   "source": []
  },
  {
   "cell_type": "markdown",
   "metadata": {},
   "source": [
    "### Sample Median"
   ]
  },
  {
   "cell_type": "code",
   "execution_count": null,
   "metadata": {},
   "outputs": [],
   "source": [
    "chi = Table.read_table('chicago_salary_2021.csv')\n",
    "chi = chi.where(\"Full or Part-Time\", \"F\").where(\"Annual Salary\", are.above(0)).drop(\"Full or Part-Time\",\"Hourly Rate\", \"Typical Hours\")"
   ]
  },
  {
   "cell_type": "code",
   "execution_count": null,
   "metadata": {},
   "outputs": [],
   "source": [
    "# Who is making the most money\n",
    "chi.sort('Annual Salary', descending=True).show(5)"
   ]
  },
  {
   "cell_type": "code",
   "execution_count": null,
   "metadata": {},
   "outputs": [],
   "source": [
    "# Who is making the least money\n",
    "chi.sort('Annual Salary', descending=False).show(5)"
   ]
  },
  {
   "cell_type": "code",
   "execution_count": null,
   "metadata": {},
   "outputs": [],
   "source": [
    "pop_median = percentile(50, chi.column('Annual Salary'))\n",
    "pop_median"
   ]
  },
  {
   "cell_type": "code",
   "execution_count": null,
   "metadata": {},
   "outputs": [],
   "source": [
    "our_sample = chi.sample(100, with_replacement=False)\n",
    "our_sample.show(5)"
   ]
  },
  {
   "cell_type": "code",
   "execution_count": null,
   "metadata": {},
   "outputs": [],
   "source": [
    "percentile(50, our_sample.column('Annual Salary'))"
   ]
  },
  {
   "cell_type": "code",
   "execution_count": null,
   "metadata": {},
   "outputs": [],
   "source": [
    "chi_bins = np.arange(0, 300000, 15000)\n",
    "chi.hist('Annual Salary', bins=chi_bins)\n",
    "plots.title('Population Distribution');"
   ]
  },
  {
   "cell_type": "code",
   "execution_count": null,
   "metadata": {},
   "outputs": [],
   "source": [
    "our_sample.hist('Annual Salary', bins=chi_bins)\n",
    "plots.title('Sample Distribution');"
   ]
  },
  {
   "cell_type": "markdown",
   "metadata": {},
   "source": [
    "# Variability of the Estimate"
   ]
  },
  {
   "cell_type": "code",
   "execution_count": null,
   "metadata": {},
   "outputs": [],
   "source": [
    "def generate_sample_median(samp_size):\n",
    "    our_sample = chi.sample(samp_size, with_replacement=False)\n",
    "    return percentile(50, our_sample.column('Annual Salary'))"
   ]
  },
  {
   "cell_type": "code",
   "execution_count": null,
   "metadata": {},
   "outputs": [],
   "source": [
    "sample_median = generate_sample_median(100)\n",
    "sample_median"
   ]
  },
  {
   "cell_type": "code",
   "execution_count": null,
   "metadata": {},
   "outputs": [],
   "source": [
    "error = sample_median - pop_median\n",
    "error"
   ]
  },
  {
   "cell_type": "markdown",
   "metadata": {},
   "source": [
    "# Quantifying Uncertainty"
   ]
  },
  {
   "cell_type": "code",
   "execution_count": null,
   "metadata": {},
   "outputs": [],
   "source": [
    "sample_medians = make_array()\n",
    "\n",
    "for i in np.arange(1000):\n",
    "    new_median = generate_sample_median(100)\n",
    "    sample_medians = np.append(sample_medians, new_median)"
   ]
  },
  {
   "cell_type": "code",
   "execution_count": null,
   "metadata": {},
   "outputs": [],
   "source": [
    "med_bins = np.arange(80000, 100000, 1750)\n",
    "Table().with_column(\n",
    "    'Sample Medians', sample_medians\n",
    ").hist(bins = med_bins)\n",
    "\n",
    "plots.scatter(pop_median, -1e-6, color=\"red\");"
   ]
  },
  {
   "cell_type": "code",
   "execution_count": null,
   "metadata": {},
   "outputs": [],
   "source": [
    "err_bins = np.arange(-6000, 6000, 1700)\n",
    "Table().with_column(\n",
    "    'Errors', sample_medians - pop_median\n",
    ").hist(bins = err_bins)\n",
    "\n",
    "plots.scatter(0, -1e-6, color=\"red\");"
   ]
  },
  {
   "cell_type": "markdown",
   "metadata": {},
   "source": [
    "# Bootstrap"
   ]
  },
  {
   "cell_type": "code",
   "execution_count": null,
   "metadata": {},
   "outputs": [],
   "source": [
    "# Take a bootstrap (re)sample of size 300, WITH replacement\n",
    "boot_sample = our_sample.sample(100, with_replacement=True)\n",
    "boot_sample.hist('Annual Salary', bins=chi_bins)\n",
    "plots.title('Bootstrap sample');\n",
    "\n",
    "print(\"Population Median =       \", pop_median)\n",
    "print(\"Our Sample Median =       \", sample_median)\n",
    "print(\"Bootstrap Sample Median = \", \n",
    "      percentile(50,boot_sample.column('Annual Salary')))"
   ]
  },
  {
   "cell_type": "code",
   "execution_count": null,
   "metadata": {},
   "outputs": [],
   "source": [
    "def one_bootstrap_median():\n",
    "    boot_resample = our_sample.sample()\n",
    "    return percentile(50, boot_resample.column('Annual Salary'))"
   ]
  },
  {
   "cell_type": "code",
   "execution_count": null,
   "metadata": {},
   "outputs": [],
   "source": [
    "bootstrap_medians = make_array()\n",
    "for i in np.arange(1000):\n",
    "    new_median = one_bootstrap_median()\n",
    "    bootstrap_medians = np.append(bootstrap_medians, new_median)"
   ]
  },
  {
   "cell_type": "code",
   "execution_count": null,
   "metadata": {},
   "outputs": [],
   "source": [
    "Table().with_column(\n",
    "    'Bootstrap Medians', bootstrap_medians\n",
    ").hist('Bootstrap Medians', bins=med_bins)\n",
    "\n",
    "plots.scatter(pop_median, -1e-6, color=\"red\");\n",
    "plots.scatter(sample_median, -1e-6, color=\"blue\");"
   ]
  },
  {
   "cell_type": "markdown",
   "metadata": {},
   "source": [
    "## Confidence Intervals"
   ]
  },
  {
   "cell_type": "markdown",
   "metadata": {},
   "source": [
    "The confidence interval is an interval based on the middle 95% of bootstrap samples.  The interval will be shown in yellow, the sample median (our estimate) in blue, and the true population median (the parameter) in red."
   ]
  },
  {
   "cell_type": "code",
   "execution_count": null,
   "metadata": {},
   "outputs": [],
   "source": [
    "left = percentile(2.5, bootstrap_medians)\n",
    "right = percentile(97.5, bootstrap_medians)\n",
    "\n",
    "Table().with_column(\n",
    "    'Bootstrap Medians', bootstrap_medians\n",
    ").hist('Bootstrap Medians', bins=med_bins)\n",
    "\n",
    "plots.plot([left, right], [-1e-6,-1e-6], color=\"gold\",lw=3, zorder=1);\n",
    "plots.scatter(pop_median, -1e-6, color=\"red\", zorder=2);\n",
    "plots.scatter(sample_median, -1e-6, color=\"blue\", zorder=2);"
   ]
  },
  {
   "cell_type": "code",
   "execution_count": null,
   "metadata": {},
   "outputs": [],
   "source": []
  }
 ],
 "metadata": {
  "anaconda-cloud": {},
  "kernelspec": {
   "display_name": "Python 3",
   "language": "python",
   "name": "python3"
  },
  "language_info": {
   "codemirror_mode": {
    "name": "ipython",
    "version": 3
   },
   "file_extension": ".py",
   "mimetype": "text/x-python",
   "name": "python",
   "nbconvert_exporter": "python",
   "pygments_lexer": "ipython3",
   "version": "3.8.5"
  }
 },
 "nbformat": 4,
 "nbformat_minor": 1
}
